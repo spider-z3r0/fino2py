{
 "cells": [
  {
   "attachments": {},
   "cell_type": "markdown",
   "metadata": {},
   "source": [
    "# Finometer to python example project.\n",
    "\n",
    "This document is a working example of _*blah*_ \n"
   ]
  },
  {
   "cell_type": "code",
   "execution_count": 1,
   "metadata": {},
   "outputs": [
    {
     "ename": "ModuleNotFoundError",
     "evalue": "No module named 'fino2py'",
     "output_type": "error",
     "traceback": [
      "\u001b[1;31m---------------------------------------------------------------------------\u001b[0m",
      "\u001b[1;31mModuleNotFoundError\u001b[0m                       Traceback (most recent call last)",
      "Cell \u001b[1;32mIn[1], line 4\u001b[0m\n\u001b[0;32m      2\u001b[0m \u001b[39mimport\u001b[39;00m \u001b[39mnumpy\u001b[39;00m \u001b[39mas\u001b[39;00m \u001b[39mnp\u001b[39;00m\n\u001b[0;32m      3\u001b[0m \u001b[39mimport\u001b[39;00m \u001b[39mpathlib\u001b[39;00m \u001b[39mas\u001b[39;00m \u001b[39mpl\u001b[39;00m\n\u001b[1;32m----> 4\u001b[0m \u001b[39mimport\u001b[39;00m \u001b[39mfino2py\u001b[39;00m \u001b[39mas\u001b[39;00m \u001b[39mf2p\u001b[39;00m  \n\u001b[0;32m      7\u001b[0m \u001b[39m# saving the name of the data directory\u001b[39;00m\n\u001b[0;32m      8\u001b[0m data_dir \u001b[39m=\u001b[39m pl\u001b[39m.\u001b[39mPath(\u001b[39mr\u001b[39m\u001b[39m'\u001b[39m\u001b[39mC:\u001b[39m\u001b[39m\\\u001b[39m\u001b[39mUsers\u001b[39m\u001b[39m\\\u001b[39m\u001b[39mkevin.omalley\u001b[39m\u001b[39m\\\u001b[39m\u001b[39mOneDrive - University of Limerick\u001b[39m\u001b[39m\\\u001b[39m\u001b[39mDocuments\u001b[39m\u001b[39m\\\u001b[39m\u001b[39mGitHub\u001b[39m\u001b[39m\\\u001b[39m\u001b[39mall_data\u001b[39m\u001b[39m\\\u001b[39m\u001b[39mFinometer Data Semester 1 and 2 14.04.23\u001b[39m\u001b[39m'\u001b[39m)\n",
      "\u001b[1;31mModuleNotFoundError\u001b[0m: No module named 'fino2py'"
     ]
    }
   ],
   "source": [
    "import pandas as pd\n",
    "import numpy as np\n",
    "import pathlib as pl\n",
    "import fino2py as f2p  \n",
    "\n",
    "\n",
    "# saving the name of the data directory\n",
    "data_dir = pl.Path(r'C:\\Users\\kevin.omalley\\OneDrive - University of Limerick\\Documents\\GitHub\\all_data\\Finometer Data Semester 1 and 2 14.04.23')\n",
    "\n",
    "# saving the path to the timestamps file\n",
    "time_stamps = pl.Path(r'C:\\Users\\kevin.omalley\\OneDrive - University of Limerick\\Documents\\GitHub\\all_data\\Finometer Data Semester 1 and 2 14.04.23\\Timesheets (1).xlsx')"
   ]
  },
  {
   "cell_type": "code",
   "execution_count": 2,
   "metadata": {},
   "outputs": [
    {
     "name": "stdout",
     "output_type": "stream",
     "text": [
      "Help on function import_protocol_times in module fino2py.src.import_protocol_times:\n",
      "\n",
      "import_protocol_times(times_file_path: pathlib.Path, add_seconds: bool = False, flatten_seconds: bool = False, save_csv: bool = False) -> pandas.core.frame.DataFrame\n",
      "    This function imports the protocol times from a .csv or excel file file and returns a cleaned pandas dataframe with the protocol times for each participant.\n",
      "    \n",
      "    Parameters\n",
      "    ----------\n",
      "    times_file_path : pathlib.Path\n",
      "        The path to the .csv file containing the protocol times.\n",
      "    add_seconds : bool, optional\n",
      "        If True, seconds will be added to the time values (if missing).\n",
      "    flatten_seconds : bool, optional\n",
      "        If True, seconds will be set to 00 for all time values.\n",
      "    save_csv : bool, optional\n",
      "        If True, the imported data will be saved as a .csv file in the same folder as the .csv file.\n",
      "    \n",
      "    Raises\n",
      "    ------\n",
      "    TypeError:\n",
      "        If times_file_path is not a pathlib.Path object.\n",
      "    ValueError:\n",
      "        If times_file_path does not exist or is not a file.\n",
      "        If times_file_path does not have a .csv extension.\n",
      "        If add_seconds and flatten_seconds are both True.\n",
      "        If the function is unable to add seconds to time values or set seconds to 00.\n",
      "    \n",
      "    Returns\n",
      "    -------\n",
      "    pandas.DataFrame\n",
      "        A cleaned pandas dataframe with the protocol times for each participant.\n",
      "\n"
     ]
    }
   ],
   "source": [
    "help(f2p.import_protocol_times)"
   ]
  },
  {
   "cell_type": "code",
   "execution_count": null,
   "metadata": {},
   "outputs": [],
   "source": [
    "y = f2p.import_protocol_times(\n",
    "    time_stamps,\n",
    "    )"
   ]
  },
  {
   "cell_type": "code",
   "execution_count": null,
   "metadata": {},
   "outputs": [],
   "source": [
    "y.head()"
   ]
  },
  {
   "cell_type": "code",
   "execution_count": null,
   "metadata": {},
   "outputs": [],
   "source": [
    "y.head(10)"
   ]
  },
  {
   "cell_type": "code",
   "execution_count": null,
   "metadata": {},
   "outputs": [],
   "source": [
    "a, a_id = f2p.read_raw_finometer_data(\n",
    "    pl.Path([i for i in data_dir.iterdir()][0]),\n",
    "    '30T',\n",
    "    save_csv=True\n",
    "    )\n",
    "\n",
    "a.head()"
   ]
  },
  {
   "cell_type": "code",
   "execution_count": null,
   "metadata": {},
   "outputs": [],
   "source": [
    "import warnings\n",
    "\n",
    "warnings.filterwarnings('ignore')\n",
    "dfs = []\n",
    "\n",
    "for row in y.iloc[0:10,:].iterrows():\n",
    "    id = row[1][0]\n",
    "    times = {'baseline' : [row[1][1], row[1][2]], 'task' : [row[1][3], row[1][4]], 'recovery' : [row[1][5], row[1][6]]}\n",
    "\n",
    "\n",
    "    for folder in data_dir.glob('**'):\n",
    "        if id == folder.stem.split('_')[0]:\n",
    "            df, df_id = f2p.read_raw_finometer_data(folder)\n",
    "\n",
    "            try:\n",
    "                dfs.append(f2p.import_protocol_averages(df, df_id, times))\n",
    "            except:\n",
    "                print(f\"Could not import protocol averages for {id}\")\n",
    "\n",
    "warnings.filterwarnings('default')\n",
    "\n",
    "\n",
    "\n",
    "\n",
    "result_df = pd.concat(dfs, axis=0)\n",
    "\n"
   ]
  },
  {
   "cell_type": "code",
   "execution_count": null,
   "metadata": {},
   "outputs": [],
   "source": [
    "result_df.head()"
   ]
  },
  {
   "cell_type": "code",
   "execution_count": null,
   "metadata": {},
   "outputs": [],
   "source": [
    "result_df.tail()"
   ]
  },
  {
   "cell_type": "code",
   "execution_count": null,
   "metadata": {},
   "outputs": [],
   "source": [
    "for i in result_df.columns:\n",
    "    print(i, len(result_df.columns))"
   ]
  }
 ],
 "metadata": {
  "kernelspec": {
   "display_name": "fino_test_kernel",
   "language": "python",
   "name": "fino_test_kernel"
  },
  "language_info": {
   "codemirror_mode": {
    "name": "ipython",
    "version": 3
   },
   "file_extension": ".py",
   "mimetype": "text/x-python",
   "name": "python",
   "nbconvert_exporter": "python",
   "pygments_lexer": "ipython3",
   "version": "3.11.2"
  },
  "orig_nbformat": 4
 },
 "nbformat": 4,
 "nbformat_minor": 2
}
